{
  "nbformat": 4,
  "nbformat_minor": 0,
  "metadata": {
    "colab": {
      "name": "Polynomial_Linear_Regression.ipynb",
      "provenance": [],
      "authorship_tag": "ABX9TyMTbqo67qrlECH9If6GJTgU",
      "include_colab_link": true
    },
    "kernelspec": {
      "name": "python3",
      "display_name": "Python 3"
    }
  },
  "cells": [
    {
      "cell_type": "markdown",
      "metadata": {
        "id": "view-in-github",
        "colab_type": "text"
      },
      "source": [
        "<a href=\"https://colab.research.google.com/github/dekaio/Machine-learning/blob/master/Polynomial_Linear_Regression.ipynb\" target=\"_parent\"><img src=\"https://colab.research.google.com/assets/colab-badge.svg\" alt=\"Open In Colab\"/></a>"
      ]
    },
    {
      "cell_type": "markdown",
      "metadata": {
        "id": "VrMnIHCPDEre",
        "colab_type": "text"
      },
      "source": [
        "# **Polynomial Linear Regression**"
      ]
    },
    {
      "cell_type": "markdown",
      "metadata": {
        "id": "V2EtsoXADKjj",
        "colab_type": "text"
      },
      "source": [
        "## **Importing the libraries**"
      ]
    },
    {
      "cell_type": "code",
      "metadata": {
        "id": "PRgxa7SCCOUy",
        "colab_type": "code",
        "colab": {}
      },
      "source": [
        "import pandas as pd\n",
        "import matplotlib.pyplot as plt\n",
        "import numpy as np"
      ],
      "execution_count": 49,
      "outputs": []
    },
    {
      "cell_type": "markdown",
      "metadata": {
        "id": "fBBqeTflDb1D",
        "colab_type": "text"
      },
      "source": [
        "## **Import dataset**"
      ]
    },
    {
      "cell_type": "code",
      "metadata": {
        "id": "dDd4N7tzDaT9",
        "colab_type": "code",
        "colab": {}
      },
      "source": [
        "dataset = pd.read_csv('Position_Salaries.csv')\n",
        "X = dataset.iloc[:,1:-1].values\n",
        "y = dataset.iloc[:,-1].values"
      ],
      "execution_count": 50,
      "outputs": []
    },
    {
      "cell_type": "markdown",
      "metadata": {
        "id": "kR5RawoiHP5x",
        "colab_type": "text"
      },
      "source": [
        "## **Training Linear regression model**"
      ]
    },
    {
      "cell_type": "code",
      "metadata": {
        "id": "N8azNfrHHLYp",
        "colab_type": "code",
        "colab": {
          "base_uri": "https://localhost:8080/",
          "height": 34
        },
        "outputId": "95886060-ef82-4e82-d6bc-7a54ee8c7eab"
      },
      "source": [
        "from sklearn.linear_model import LinearRegression\n",
        "regressor = LinearRegression()\n",
        "regressor.fit(X,y)"
      ],
      "execution_count": 51,
      "outputs": [
        {
          "output_type": "execute_result",
          "data": {
            "text/plain": [
              "LinearRegression(copy_X=True, fit_intercept=True, n_jobs=None, normalize=False)"
            ]
          },
          "metadata": {
            "tags": []
          },
          "execution_count": 51
        }
      ]
    },
    {
      "cell_type": "markdown",
      "metadata": {
        "id": "e13gZrXEH09e",
        "colab_type": "text"
      },
      "source": [
        "## **Visualising linear regression model**"
      ]
    },
    {
      "cell_type": "code",
      "metadata": {
        "id": "bQnf22FPHctA",
        "colab_type": "code",
        "colab": {
          "base_uri": "https://localhost:8080/",
          "height": 294
        },
        "outputId": "68477967-0f49-4033-fcfe-726cdff9c180"
      },
      "source": [
        "plt.scatter(X,y,color='red')\n",
        "plt.plot(X,regressor.predict(X),color='blue')\n",
        "plt.title('Salary predictor')\n",
        "plt.xlabel('Level')\n",
        "plt.ylabel('Position')\n",
        "plt.show()"
      ],
      "execution_count": 52,
      "outputs": [
        {
          "output_type": "display_data",
          "data": {
            "image/png": "[encoded data removed]",
            "text/plain": [
              "<Figure size 432x288 with 1 Axes>"
            ]
          },
          "metadata": {
            "tags": [],
            "needs_background": "light"
          }
        }
      ]
    },
    {
      "cell_type": "markdown",
      "metadata": {
        "id": "5v6emQ3KJKWs",
        "colab_type": "text"
      },
      "source": [
        "## **Polynomial linear regression**"
      ]
    },
    {
      "cell_type": "code",
      "metadata": {
        "id": "V_gbFTmBJOU9",
        "colab_type": "code",
        "colab": {
          "base_uri": "https://localhost:8080/",
          "height": 34
        },
        "outputId": "b8a9d8cf-80fb-4180-f6e4-12ff6108f500"
      },
      "source": [
        "from sklearn.preprocessing import PolynomialFeatures\n",
        "poly_reg = PolynomialFeatures(4)\n",
        "X_poly = poly_reg.fit_transform(X)\n",
        "reg_2 = LinearRegression()\n",
        "reg_2.fit(X_poly,y)"
      ],
      "execution_count": 53,
      "outputs": [
        {
          "output_type": "execute_result",
          "data": {
            "text/plain": [
              "LinearRegression(copy_X=True, fit_intercept=True, n_jobs=None, normalize=False)"
            ]
          },
          "metadata": {
            "tags": []
          },
          "execution_count": 53
        }
      ]
    },
    {
      "cell_type": "markdown",
      "metadata": {
        "id": "paKgqpeOKXYj",
        "colab_type": "text"
      },
      "source": [
        "## **Visualising polynomial linear regression**"
      ]
    },
    {
      "cell_type": "code",
      "metadata": {
        "id": "AuQ5X1HxKV3W",
        "colab_type": "code",
        "colab": {
          "base_uri": "https://localhost:8080/",
          "height": 294
        },
        "outputId": "759b8c28-a0f2-4d8c-ad78-af30cda0a12d"
      },
      "source": [
        "plt.scatter(X,y,color='red')\n",
        "plt.plot(X,reg_2.predict(X_poly), color='blue')\n",
        "plt.title('Salary predictor')\n",
        "plt.xlabel('Position level')\n",
        "plt.ylabel('Salary')\n",
        "plt.show()"
      ],
      "execution_count": 54,
      "outputs": [
        {
          "output_type": "display_data",
          "data": {
            "image/png": "[encoded data removed]",
            "text/plain": [
              "<Figure size 432x288 with 1 Axes>"
            ]
          },
          "metadata": {
            "tags": [],
            "needs_background": "light"
          }
        }
      ]
    },
    {
      "cell_type": "markdown",
      "metadata": {
        "id": "K4YWg9d4NDcb",
        "colab_type": "text"
      },
      "source": [
        "## **Visualising polynomial regression (for higher resolution and smoother curve)**"
      ]
    },
    {
      "cell_type": "code",
      "metadata": {
        "id": "8pLYD7blL1n4",
        "colab_type": "code",
        "colab": {
          "base_uri": "https://localhost:8080/",
          "height": 294
        },
        "outputId": "f1c44d02-f060-4c91-99b3-d072076b8e59"
      },
      "source": [
        "X_grid = np.arange(min(X),max(X),0.1)\n",
        "X_grid = X_grid.reshape((len(X_grid),1))\n",
        "plt.scatter(X,y,color='red')\n",
        "plt.plot(X_grid,reg_2.predict(poly_reg.fit_transform(X_grid)),color='blue')\n",
        "plt.title('Salary predictor')\n",
        "plt.xlabel('Position level')\n",
        "plt.ylabel('Salary')\n",
        "plt.show()"
      ],
      "execution_count": 55,
      "outputs": [
        {
          "output_type": "display_data",
          "data": {
            "image/png": "[encoded data removed]",
            "text/plain": [
              "<Figure size 432x288 with 1 Axes>"
            ]
          },
          "metadata": {
            "tags": [],
            "needs_background": "light"
          }
        }
      ]
    },
    {
      "cell_type": "markdown",
      "metadata": {
        "id": "E9ekynz3Pc7J",
        "colab_type": "text"
      },
      "source": [
        "## **Predicting a new result with linear regression**"
      ]
    },
    {
      "cell_type": "code",
      "metadata": {
        "id": "7yqmEw38N-bB",
        "colab_type": "code",
        "colab": {
          "base_uri": "https://localhost:8080/",
          "height": 34
        },
        "outputId": "f300dd62-e5e6-4519-d421-b492d7d12cb5"
      },
      "source": [
        "regressor.predict([[6.5]])"
      ],
      "execution_count": 56,
      "outputs": [
        {
          "output_type": "execute_result",
          "data": {
            "text/plain": [
              "array([330378.78787879])"
            ]
          },
          "metadata": {
            "tags": []
          },
          "execution_count": 56
        }
      ]
    },
    {
      "cell_type": "markdown",
      "metadata": {
        "id": "WWKYEUViPsOO",
        "colab_type": "text"
      },
      "source": [
        "## **Predicting a new result with polynomial regression**"
      ]
    },
    {
      "cell_type": "code",
      "metadata": {
        "id": "jnQ5G3sHPogE",
        "colab_type": "code",
        "colab": {
          "base_uri": "https://localhost:8080/",
          "height": 34
        },
        "outputId": "e3fdc619-5675-4a5e-faa5-cdda01a539cc"
      },
      "source": [
        "reg_2.predict(poly_reg.fit_transform([[6.5]]))"
      ],
      "execution_count": 57,
      "outputs": [
        {
          "output_type": "execute_result",
          "data": {
            "text/plain": [
              "array([158862.45265155])"
            ]
          },
          "metadata": {
            "tags": []
          },
          "execution_count": 57
        }
      ]
    }
  ]
}